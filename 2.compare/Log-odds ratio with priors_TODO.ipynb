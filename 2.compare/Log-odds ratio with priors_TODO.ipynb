{
 "cells": [
  {
   "cell_type": "markdown",
   "metadata": {},
   "source": [
    "The log-odds ratio with an informative (and uninformative) Dirichlet prior (described in [Monroe et al. 2009, Fighting Words](http://languagelog.ldc.upenn.edu/myl/Monroe.pdf)) is a common method for finding distinctive terms in two datasets (see [Jurafsky et al. 2014](https://firstmonday.org/ojs/index.php/fm/article/view/4944/3863) for an example article that uses it to make an empirical argument). This method for finding distinguishing words combines a number of desirable properties:\n",
    "\n",
    "* it specifies an intuitive metric (the log-odds) for comparing word probabilities in two corpora\n",
    "* it incorporates prior information in the form of pseudocounts, which can either act as a smoothing factor (in the uninformative case) or incorporate real information about the expected frequency of words overall.\n",
    "* it accounts for variability of a frequency estimate by essentially converting the log-odds to a z-score.\n",
    "\n",
    "In this homework you will implement both of these ratios and compare the results."
   ]
  },
  {
   "cell_type": "code",
   "execution_count": 71,
   "metadata": {},
   "outputs": [],
   "source": [
    "import sys, operator, math, nltk\n",
    "from collections import Counter\n",
    "import numpy as np"
   ]
  },
  {
   "cell_type": "code",
   "execution_count": 72,
   "metadata": {},
   "outputs": [],
   "source": [
    "def read_and_tokenize(filename):\n",
    "    \n",
    "    with open(filename, encoding=\"utf-8\") as file:\n",
    "        tokens=[]\n",
    "        # lowercase\n",
    "        for line in file:\n",
    "            data=line.rstrip().lower()\n",
    "            # This dataset is already tokenized, so we can split on whitespace\n",
    "            tokens.extend(data.split(\" \"))\n",
    "        return tokens"
   ]
  },
  {
   "cell_type": "markdown",
   "metadata": {},
   "source": [
    "The data we'll use in this case comes from a sample of 1000 positive and 1000 negative movie reviews from the [Large Movie Review Dataset](https://ai.stanford.edu/~amaas/data/sentiment/).  The version of the data used in this homework has already been tokenized for you."
   ]
  },
  {
   "cell_type": "code",
   "execution_count": 73,
   "metadata": {},
   "outputs": [],
   "source": [
    "negative_tokens=read_and_tokenize(\"../data/negative.reviews.txt\")\n",
    "positive_tokens=read_and_tokenize(\"../data/positive.reviews.txt\")"
   ]
  },
  {
   "cell_type": "code",
   "execution_count": 74,
   "metadata": {},
   "outputs": [
    {
     "data": {
      "text/plain": [
       "19198"
      ]
     },
     "execution_count": 74,
     "metadata": {},
     "output_type": "execute_result"
    }
   ],
   "source": [
    "len(Counter(negative_tokens))"
   ]
  },
  {
   "cell_type": "code",
   "execution_count": 75,
   "metadata": {},
   "outputs": [
    {
     "data": {
      "text/plain": [
       "[('.', 11086), ('the', 13098)]"
      ]
     },
     "execution_count": 75,
     "metadata": {},
     "output_type": "execute_result"
    }
   ],
   "source": [
    "sorted(Counter(negative_tokens).items(), key=operator.itemgetter(1))[-2:]"
   ]
  },
  {
   "cell_type": "code",
   "execution_count": 76,
   "metadata": {},
   "outputs": [
    {
     "name": "stdout",
     "output_type": "stream",
     "text": [
      "20760\n",
      "19198\n",
      "29595\n"
     ]
    }
   ],
   "source": [
    "one_counter = Counter(positive_tokens)\n",
    "two_counter = Counter(negative_tokens)\n",
    "    \n",
    "V = len(one_counter) + len(two_counter)\n",
    "    \n",
    "mergedDict = one_counter + two_counter\n",
    "print(len(one_counter))\n",
    "print(len(two_counter))\n",
    "print(len(mergedDict))"
   ]
  },
  {
   "cell_type": "markdown",
   "metadata": {},
   "source": [
    "Q1.  Implement the log-odds ratio with an uninformative Dirichlet prior.  This value, $\\hat\\zeta_w^{(i-j)}$ for word $w$ reflecting the difference in usage between corpus $i$ and corpus $j$, is given by the following equation:\n",
    "\n",
    "$$\n",
    "\\hat\\zeta_w^{(i-j)}= {\\hat{d}_w^{(i-j)} \\over \\sqrt{\\sigma^2\\left(\\hat{d}_w^{(i-j)}\\right)}}\n",
    "$$\n",
    "\n",
    "Where: \n",
    "\n",
    "$$\n",
    "\\hat{d}_w^{(i-j)} = \\log \\left({y_w^i + \\alpha_w} \\over {n^i + \\alpha_0 - y_w^i - \\alpha_w}) \\right) -  \\log \\left({y_w^j + \\alpha_w} \\over {n^j + \\alpha_0 - y_w^j - \\alpha_w}) \\right)\n",
    "$$\n",
    "\n",
    "$$\n",
    "\\sigma^2\\left(\\hat{d}_w^{(i-j)}\\right) \\approx {1 \\over {y_w^i + \\alpha_w}} + {1 \\over {y_w^j + \\alpha_w} }\n",
    "$$\n",
    "\n",
    "And:\n",
    "\n",
    "* $y_w^i = $ count of word $w$ in corpus $i$ (likewise for $j$)\n",
    "* $\\alpha_w$ = 0.01\n",
    "* $V$ = size of vocabulary (number of distinct word types)\n",
    "* $\\alpha_0 = V * \\alpha_w$\n",
    "* $n^i = $ number of words in corpus $i$ (likewise for $j$)\n",
    "\n",
    "Here the two corpora are the positive movie reviews (e.g., $i$ = positive) and the negative movie reviews (e.g., $j$ = negative). Using this metric, print out the 25 words most strongly aligned with the positive corpus, and 25 words most strongly aligned with the negative corpus."
   ]
  },
  {
   "cell_type": "code",
   "execution_count": 77,
   "metadata": {},
   "outputs": [],
   "source": [
    "def logodds_with_uninformative_prior(one_tokens, two_tokens, display=25):\n",
    "    \n",
    "    # complete this section\n",
    "    alpha_w = 0.01\n",
    "    ni = len(one_tokens)\n",
    "    nj = len(two_tokens)\n",
    "    \n",
    "    one_counter = Counter(one_tokens)\n",
    "    two_counter = Counter(two_tokens)\n",
    "    \n",
    "    V = len(one_counter) + len(two_counter)\n",
    "    \n",
    "    mergedDict = one_counter + two_counter\n",
    "    \n",
    "    for key in mergedDict.keys():\n",
    "        y_iw = one_counter[key]\n",
    "        y_jw = two_counter[key]\n",
    "        \n",
    "        alpha_0 = V * alpha_w\n",
    "        sigmaSq = 1 / (y_iw + alpha_w) + 1 / ((y_jw + alpha_w))\n",
    "        \n",
    "        d = math.log((y_iw + alpha_w)/(ni + alpha_0 - y_iw - alpha_w)) - \\\n",
    "        math.log((y_jw + alpha_w)/(nj + alpha_0 - y_jw - alpha_w))\n",
    "\n",
    "        mergedDict[key] = d / math.sqrt(sigmaSq)\n",
    "                                \n",
    "    pos_aligned = sorted(mergedDict.items(), key=operator.itemgetter(1))[-display:]\n",
    "    neg_aligned = sorted(mergedDict.items(), key=operator.itemgetter(1))[:display]     \n",
    "    print(\"The 25 words most strongly aligned with the positive corpus are:\\n\")\n",
    "    print(*pos_aligned, sep = \"\\n\")\n",
    "    print(\"The 25 words most strongly aligned with the negative corpus are:\\n\")\n",
    "    print(*neg_aligned, sep = \"\\n\")\n",
    "        \n",
    "    "
   ]
  },
  {
   "cell_type": "code",
   "execution_count": 78,
   "metadata": {},
   "outputs": [
    {
     "name": "stdout",
     "output_type": "stream",
     "text": [
      "The 25 words most strongly aligned with the positive corpus are:\n",
      "\n",
      "('loved', 5.092285086525542)\n",
      "('tony', 5.148107301296206)\n",
      "('most', 5.198691748076113)\n",
      "('beautiful', 5.355741907330319)\n",
      "('performances', 5.380204656786689)\n",
      "('always', 5.465693195699712)\n",
      "('in', 5.4906900029963035)\n",
      "('perfect', 5.547255339183469)\n",
      "('world', 5.664659079469321)\n",
      "('highly', 5.706978984224554)\n",
      "('life', 5.722039664143804)\n",
      "('of', 5.770013739741971)\n",
      "(',', 5.938707040403868)\n",
      "('performance', 6.05237258679062)\n",
      "('her', 6.389278708294263)\n",
      "('is', 6.560191611641123)\n",
      "('wonderful', 6.69734947271198)\n",
      "('excellent', 7.142963325594074)\n",
      "('war', 7.231974443093077)\n",
      "('love', 7.466738635951324)\n",
      "('and', 8.009745519209705)\n",
      "('as', 8.068968948199227)\n",
      "('best', 8.221411469150025)\n",
      "('his', 8.445126329077128)\n",
      "('great', 9.607821060717392)\n",
      "The 25 words most strongly aligned with the negative corpus are:\n",
      "\n",
      "('bad', -15.873846129424356)\n",
      "('?', -15.03469284984823)\n",
      "(\"n't\", -11.948783478061554)\n",
      "('movie', -10.959295836628622)\n",
      "('worst', -9.928587077010157)\n",
      "('i', -9.44715800793055)\n",
      "('just', -9.121837740309793)\n",
      "('...', -8.67565155189347)\n",
      "('was', -8.616812927190152)\n",
      "('no', -7.998887920296114)\n",
      "('do', -7.520734100587908)\n",
      "('awful', -7.511804834561251)\n",
      "('terrible', -7.446197230648243)\n",
      "('they', -7.372266095504316)\n",
      "('horrible', -7.0524987610624175)\n",
      "('why', -7.019280939376238)\n",
      "('this', -6.934002955348421)\n",
      "('poor', -6.930563333842146)\n",
      "('boring', -6.709243611464784)\n",
      "('any', -6.684551287761596)\n",
      "('waste', -6.674027127769292)\n",
      "('script', -6.661118949339219)\n",
      "('worse', -6.601131071273473)\n",
      "('have', -6.550956321602899)\n",
      "('stupid', -6.474952665392898)\n"
     ]
    }
   ],
   "source": [
    "logodds_with_uninformative_prior(positive_tokens, negative_tokens)"
   ]
  },
  {
   "cell_type": "markdown",
   "metadata": {},
   "source": [
    "Q2: As you increase the constant $\\alpha_w$ in the equations above, what happens to $\\hat\\zeta_w^{(i-j)}$, $\\hat{d}_w^{(i-j)}$ and $\\sigma^2\\left(\\hat{d}_w^{(i-j)}\\right)$ (i.e., do they get bigger or smaller)?  Answer this by plugging the following values in your implementation of these two quantities, and varying $\\alpha_w$ (and, consequently, $\\alpha_0$).\n",
    "\n",
    "* $y_w^i=34$\n",
    "* $y_w^j=17$\n",
    "* $n^i=1000$\n",
    "* $n^j=1000$\n",
    "* $V=500$"
   ]
  },
  {
   "cell_type": "code",
   "execution_count": 83,
   "metadata": {},
   "outputs": [],
   "source": [
    "import matplotlib.pyplot as plt\n",
    "plt.style.use('default')"
   ]
  },
  {
   "cell_type": "markdown",
   "metadata": {},
   "source": [
    "As we increase the constant in the equations above, the other three quantities (zeta, alpha_w and d) all decrease."
   ]
  },
  {
   "cell_type": "code",
   "execution_count": 84,
   "metadata": {
    "scrolled": true
   },
   "outputs": [
    {
     "data": {
      "image/png": "[encoded data removed]",
      "text/plain": [
       "<Figure size 640x480 with 4 Axes>"
      ]
     },
     "metadata": {},
     "output_type": "display_data"
    }
   ],
   "source": [
    "alpha_ws = np.linspace(0.01, 0.5, num=50)\n",
    "\n",
    "ni = 1000\n",
    "nj = 1000\n",
    "V = 500\n",
    "y_iw = 34\n",
    "y_jw = 17\n",
    "\n",
    "sigmaSq = []\n",
    "d = []\n",
    "zeta = []\n",
    "\n",
    "for i, alpha_w in enumerate(alpha_ws):\n",
    "    alpha_0 = V * alpha_w\n",
    "    sigmaSq.append(1 / (y_iw + alpha_w) + 1 / ((y_jw + alpha_w)))\n",
    "\n",
    "    d.append(math.log((y_iw + alpha_w)/(ni + alpha_0 - y_iw - alpha_w)) - \\\n",
    "    math.log((y_jw + alpha_w)/(nj + alpha_0 - y_jw - alpha_w)))\n",
    "\n",
    "    zeta.append(d[i] / math.sqrt(sigmaSq[i]))\n",
    "\n",
    "fig, axs = plt.subplots(2, 2)\n",
    "axs[0, 0].plot(alpha_ws, sigmaSq)\n",
    "axs[0, 0].set_title('sigmaSq')\n",
    "axs[0, 0].set(xlabel='alpha_w', ylabel='sigmaSq')\n",
    "\n",
    "axs[0, 1].plot(alpha_ws, d, 'tab:orange')\n",
    "axs[0, 1].set_title('d')\n",
    "axs[0, 1].set(xlabel='alpha_w', ylabel='d')\n",
    "\n",
    "axs[1, 0].plot(alpha_ws, zeta, 'tab:green')\n",
    "axs[1, 0].set_title('zeta')\n",
    "axs[1, 0].set(xlabel='alpha_w', ylabel='zeta')\n",
    "\n",
    "# Hide x labels and tick labels for top plots and y ticks for right plots.\n",
    "for ax in axs.flat:\n",
    "    ax.label_outer()\n"
   ]
  },
  {
   "cell_type": "markdown",
   "metadata": {},
   "source": [
    "Now let's make that prior informative by including information about the overall frequency of a given word in a background corpus (i.e., a corpus that represents general word usage, without regard for labeled subcorpora).  To do so, there are only two small changes to make:\n",
    "\n",
    "* We need to gather a background corpus $b$ and calculate $\\hat\\pi_w$, the relative frequency of word $w$ in $b$ (i.e., the number of times $w$ occurs in $b$ divided by the number of words in $b$).\n",
    "\n",
    "* In the uninformative prior above, $\\alpha_w$ was a constant (0.01) and $\\alpha_0 = V * \\alpha_w$.  Let us now set $\\alpha_0 = 1000$ and $\\alpha_w = \\hat\\pi_w * \\alpha_0$.  This reflects a pseudocount capturing the fractional number of times we would expect to see word $w$ in a sample of 1000 words.\n",
    "\n",
    "This allows us to specify that a common word like \"the\" (which has a relative frequency of $\\approx 0.04$) would have $\\alpha_w = 40$, while an infrequent word like \"beneficiaries\" (relative frequency $\\approx 0.00002$) would have $\\alpha_w = 0.02$. "
   ]
  },
  {
   "cell_type": "markdown",
   "metadata": {},
   "source": [
    "Q3. Implement a log-odds ratio with informative prior, using a larger background corpus of 5M tokens drawn from the same dataset (given to you as `priors` below, which contains the relative frequencies of words calculated from that corpus) and set $\\alpha_0 = 1000$. Using this metric, print out again the 25 words most strongly aligned with the positive corpus, and 25 words most strongly aligned with the negative corpus.  Is there a meaningful difference?"
   ]
  },
  {
   "cell_type": "code",
   "execution_count": 85,
   "metadata": {},
   "outputs": [],
   "source": [
    "def read_priors(filename):\n",
    "    counts=Counter()\n",
    "    freqs={}\n",
    "    tokens=read_and_tokenize(filename)\n",
    "    total=len(tokens)\n",
    "\n",
    "    for token in tokens:\n",
    "        counts[token]+=1\n",
    "\n",
    "    for word in counts:\n",
    "        freqs[word]=counts[word]/total\n",
    "\n",
    "    return freqs\n",
    "    \n",
    "priors=read_priors(\"../data/sentiment.background.txt\")"
   ]
  },
  {
   "cell_type": "code",
   "execution_count": 88,
   "metadata": {},
   "outputs": [],
   "source": [
    "def logodds_with_informative_prior(one_tokens, two_tokens, priors, display=25):\n",
    "    \n",
    "    # complete this section\n",
    "    alpha_0 = 1000\n",
    "    ni = len(one_tokens)\n",
    "    nj = len(two_tokens)\n",
    "    \n",
    "    one_counter = Counter(one_tokens)\n",
    "    two_counter = Counter(two_tokens)\n",
    "    \n",
    "    V = len(one_counter) + len(two_counter)\n",
    "    \n",
    "    mergedDict = one_counter + two_counter\n",
    "    \n",
    "    for key in mergedDict.keys():\n",
    "        y_iw = one_counter[key]\n",
    "        y_jw = two_counter[key]\n",
    "        \n",
    "        alpha_w = priors[key] * alpha_0\n",
    "        sigmaSq = 1 / (y_iw + alpha_w) + 1 / ((y_jw + alpha_w))\n",
    "        \n",
    "        d = math.log((y_iw + alpha_w)/(ni + alpha_0 - y_iw - alpha_w)) - \\\n",
    "        math.log((y_jw + alpha_w)/(nj + alpha_0 - y_jw - alpha_w))\n",
    "\n",
    "        mergedDict[key] = d / math.sqrt(sigmaSq)\n",
    "                                \n",
    "    pos_aligned = sorted(mergedDict.items(), key=operator.itemgetter(1))[-display:]\n",
    "    neg_aligned = sorted(mergedDict.items(), key=operator.itemgetter(1))[:display]     \n",
    "    print(\"The 25 words most strongly aligned with the positive corpus are:\\n\")\n",
    "    print(*pos_aligned, sep = \"\\n\")\n",
    "    print(\"The 25 words most strongly aligned with the negative corpus are:\\n\")\n",
    "    print(*neg_aligned, sep = \"\\n\")"
   ]
  },
  {
   "cell_type": "code",
   "execution_count": 89,
   "metadata": {
    "scrolled": false
   },
   "outputs": [
    {
     "name": "stdout",
     "output_type": "stream",
     "text": [
      "The 25 words most strongly aligned with the positive corpus are:\n",
      "\n",
      "('loved', 5.08520207589855)\n",
      "('tony', 5.151557465549794)\n",
      "('most', 5.188839322996821)\n",
      "('beautiful', 5.346392148729829)\n",
      "('performances', 5.371497571484572)\n",
      "('always', 5.456154882740344)\n",
      "('in', 5.477091362874526)\n",
      "('perfect', 5.540329074257345)\n",
      "('world', 5.6554566648511475)\n",
      "('highly', 5.703588456479672)\n",
      "('life', 5.712104514477569)\n",
      "('of', 5.754969742770618)\n",
      "(',', 5.9215701353486665)\n",
      "('performance', 6.042737335969907)\n",
      "('her', 6.3771329954200775)\n",
      "('is', 6.543717647282005)\n",
      "('wonderful', 6.692625533714691)\n",
      "('excellent', 7.136307614907904)\n",
      "('war', 7.2257038478692515)\n",
      "('love', 7.4541507138623375)\n",
      "('and', 7.990231407305706)\n",
      "('as', 8.051850426312377)\n",
      "('best', 8.207390895133855)\n",
      "('his', 8.427876598766474)\n",
      "('great', 9.591039308150844)\n",
      "The 25 words most strongly aligned with the negative corpus are:\n",
      "\n",
      "('bad', -15.858436155657074)\n",
      "('?', -15.012171561204545)\n",
      "(\"n't\", -11.92973245486743)\n",
      "('movie', -10.942156841842946)\n",
      "('worst', -9.958385464468778)\n",
      "('i', -9.43394122124469)\n",
      "('just', -9.10719606286112)\n",
      "('...', -8.661491103140472)\n",
      "('was', -8.60428995816332)\n",
      "('no', -7.98623150105582)\n",
      "('awful', -7.513361158186305)\n",
      "('do', -7.509005013285732)\n",
      "('terrible', -7.450145065620428)\n",
      "('they', -7.360873277110952)\n",
      "('horrible', -7.054947486972777)\n",
      "('why', -7.008333826955033)\n",
      "('this', -6.924931742171541)\n",
      "('poor', -6.923265303686221)\n",
      "('waste', -6.719492793687231)\n",
      "('boring', -6.70218207705369)\n",
      "('any', -6.674061366310463)\n",
      "('script', -6.651941912393764)\n",
      "('worse', -6.597130696108337)\n",
      "('have', -6.541331663788079)\n",
      "('stupid', -6.468495330825354)\n"
     ]
    }
   ],
   "source": [
    "logodds_with_informative_prior(positive_tokens, negative_tokens, priors)"
   ]
  },
  {
   "cell_type": "markdown",
   "metadata": {},
   "source": [
    "No, there is no significant difference except the logodds values are slightly different."
   ]
  }
 ],
 "metadata": {
  "kernelspec": {
   "display_name": "Python 3 (ipykernel)",
   "language": "python",
   "name": "python3"
  },
  "language_info": {
   "codemirror_mode": {
    "name": "ipython",
    "version": 3
   },
   "file_extension": ".py",
   "mimetype": "text/x-python",
   "name": "python",
   "nbconvert_exporter": "python",
   "pygments_lexer": "ipython3",
   "version": "3.8.8"
  }
 },
 "nbformat": 4,
 "nbformat_minor": 2
}
