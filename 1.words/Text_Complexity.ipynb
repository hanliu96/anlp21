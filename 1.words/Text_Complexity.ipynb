{
 "cells": [
  {
   "cell_type": "markdown",
   "id": "89dd4ae7",
   "metadata": {},
   "source": [
    "Common measures of textual complexity are derived from simple counts of words, sentences and syllables.  In this homework, you'll implement two of them: type-token ratio (a measure of vocabulary richness) and the [Flesch-Kincaid Grade Level](https://en.wikipedia.org/wiki/Flesch–Kincaid_readability_tests#Flesch–Kincaid_grade_level)."
   ]
  },
  {
   "cell_type": "code",
   "execution_count": 179,
   "id": "6e71628d",
   "metadata": {},
   "outputs": [],
   "source": [
    "import nltk"
   ]
  },
  {
   "cell_type": "code",
   "execution_count": 180,
   "id": "7f4944f5",
   "metadata": {},
   "outputs": [
    {
     "name": "stderr",
     "output_type": "stream",
     "text": [
      "[nltk_data] Downloading package punkt to /Users/dbamman/nltk_data...\n",
      "[nltk_data]   Package punkt is already up-to-date!\n"
     ]
    },
    {
     "data": {
      "text/plain": [
       "True"
      ]
     },
     "execution_count": 180,
     "metadata": {},
     "output_type": "execute_result"
    }
   ],
   "source": [
    "# If you haven't downloaded the sentence segmentation model before, do so here\n",
    "nltk.download(\"punkt\")"
   ]
  },
  {
   "cell_type": "markdown",
   "id": "c5a7820e",
   "metadata": {},
   "source": [
    "Q1: Find two different texts you'd like to compare (from any source).  For potential sources, see the [The American Presidency Project](https://www.presidency.ucsb.edu/documents/presidential-documents-archive-guidebook/annual-messages-congress-the-state-the-union) for all state of the union addresses and [Project Gutenberg](https://www.gutenberg.org) for books in the public domain.  Paste them in the `text1` and `text2` strings below.  Ensure that both texts are a minimum of 500 words."
   ]
  },
  {
   "cell_type": "code",
   "execution_count": 181,
   "id": "63adb141",
   "metadata": {},
   "outputs": [],
   "source": [
    "text1=\"\"\"Thank you very much. Thank you. Thank you very much.\n",
    "\n",
    "Madam Speaker, Mr. Vice President, Members of Congress, the First Lady of the United States, and my fellow citizens: Three years ago, we launched the great American comeback. Tonight, I stand before you to share the incredible results. Jobs are booming, incomes are soaring, poverty is plummeting, crime is falling, confidence is surging, and our country is thriving and highly respected again. America's enemies are on the run, America's fortunes are on the rise, and America's future is blazing bright.\n",
    "\n",
    "The years of economic decay are over. The days of our country being used, taken advantage of, and even scorned by other nations are long behind us. Gone too are the broken promises, jobless recoveries, tired platitudes, and constant excuses for the depletion of American wealth, power, and prestige.\n",
    "\n",
    "In just 3 short years, we have shattered the mentality of American decline, and we have rejected the downsizing of America's destiny. We have totally rejected the downsizing. We are moving forward at a pace that was unimaginable just a short time ago, and we are never, ever going back.\n",
    "\n",
    "I am thrilled to report to you tonight that our economy is the best it has ever been. Our military is completely rebuilt, with its power being unmatched anywhere in the world, and it's not even close. Our borders are secure. Our families are flourishing. Our values are renewed. Our pride is restored. And for all of these reasons, I say to the people of our great country and to the Members of Congress: The state of our Union is stronger than ever before.\n",
    "\n",
    "The vision I will lay out this evening demonstrates how we are building the world's most prosperous and inclusive society, one where every citizen can join in America's unparalleled success and where every community can take part in America's extraordinary rise.\n",
    "\n",
    "From the instant I took office, I moved rapidly to revive the U.S. economy, slashing a record number of job-killing regulations, enacting historic and record-setting tax cuts, and fighting for fair and reciprocal trade agreements. Our agenda is relentlessly pro-worker, pro-family, pro-growth, and, most of all, pro-American. [Applause] Thank you. Thank you. We are advancing with unbridled optimism and lifting our citizens of every race, color, religion, and creed very, very high.\n",
    "\n",
    "Since my election, we have created 7 million new jobs, 5 million more than Government experts projected during the previous administration. The unemployment rate is the lowest in over half a century. And very incredibly, the average unemployment rate under my administration is lower than any administration in the history of our country. [Applause] True. If we hadn't reversed the failed economic policies of the previous administration, the world would not now be witnessing this great economic success.\n",
    "\n",
    "The unemployment rate for African Americans, Hispanic Americans, and Asian Americans has reached the lowest levels in history. African American youth unemployment has reached an alltime low. African American poverty has declined to the lowest rate ever recorded.\n",
    "\n",
    "The unemployment rate for women reached the lowest level in almost 70 years. And last year, women filled 72 percent of all new jobs added. The veterans unemployment rate dropped to a record low. The unemployment rate for disabled Americans has reached an alltime low. Workers without a high school diploma have achieved the lowest unemployment rate recorded in U.S. history. A record number of young Americans are now employed.\n",
    "\n",
    "Under the last administration, more than 10 million people were added to the food stamp rolls. Under my administration, 7 million Americans have come off food stamps, and 10 million people have been lifted off of welfare. In 8 years under the last administration, over 300,000 working-age people dropped out of the workforce. In just 3 years of my administration, 3.5 million people—working-age people—have joined the workforce.\n",
    "\n",
    "Since my election, the net worth of the bottom half of wage earners has increased by 47 percent, three times faster than the increase for the top 1 percent. After decades of flat and falling incomes, wages are rising fast, and wonderfully, they are rising fastest for low-income workers, who have seen a 16-percent pay increase since my election. This is a blue-collar boom. Real median household income is now at the highest level ever recorded.\n",
    "\n",
    "Since my election, U.S. stock markets have soared 70 percent, adding more than $12 trillion to our Nation's wealth, transcending anything anyone believed was possible. This is a record. It is something that every country in the world is looking up to. They admire. Consumer confidence has just reached amazing new highs.\n",
    "\n",
    "All of those millions of people with 401(k)s and pensions are doing far better than they have ever done before with increases of 60, 70, 80, 90, and 100 percent and even more.\n",
    "\n",
    "Jobs and investments are pouring into 9,000 previously neglected neighborhoods thanks to Opportunity Zones, a plan spearheaded by Senator Tim Scott as part of our great Republican tax cuts. In other words, wealthy people and companies are pouring money into poor neighborhoods or areas that haven't seen investment in many decades, creating jobs, energy, and excitement. This is the first time that these deserving communities have seen anything like this. It's all working.\n",
    "\n",
    "Opportunity Zones are helping Americans like Army veteran Tony Rankins from Cincinnati, Ohio. After struggling with drug addiction, Tony lost his job, his house, and his family. He was homeless. But then, Tony found a construction company that invests in Opportunity Zones. He is now a top tradesman, drug-free, reunited with his family, and he is here tonight. Tony, keep up the great work. Tony. Thank you, Tony.\n",
    "\n",
    "Our roaring economy has, for the first time ever, given many former prisoners the ability to get a great job and a fresh start. This second chance at life is made possible because we passed landmark criminal justice reform into law. Everybody said that criminal justice reform couldn't be done, but I got it done, and the people in this room got it done.\n",
    "\n",
    "Thanks to our bold regulatory reduction campaign, the United States has become the number one producer of oil and natural gas anywhere in the world, by far. With the tremendous progress we have made over the past 3 years, America is now energy independent, and energy jobs, like so many other elements of our country, are at a record high. We are doing numbers that no one would have thought possible just 3 years ago.\n",
    "\n",
    "Likewise, we are restoring our Nation's manufacturing might, even though predictions were, as you all know, that this could never, ever be done. After losing 60,000 factories under the previous two administrations, America has now gained 12,000 new factories under my administration, with thousands upon thousands of plants and factories being planned or being built. Companies are not leaving; they are coming back to the U.S.A. The fact is that everybody wants to be where the action is, and the United States of America is indeed the place where the action is. One of the biggest promises I made to the American people was to replace the disastrous NAFTA trade deal. In fact, unfair trade is perhaps the single biggest reason that I decided to run for President. Following NAFTA's adoption, our Nation lost one in four manufacturing jobs. Many politicians came and went, pledging to change or replace NAFTA, only to do so, and then absolutely nothing happened. But unlike so many who came before me, I keep my promises: We did our job.\n",
    "\n",
    "Six days ago, I replaced NAFTA and signed the brand-new U.S.-Mexico-Canada Agreement into law. The USMCA will create nearly 100,000 new high-paying American auto jobs and massively boost exports for our farmers, ranchers, and factory workers. It will also bring trade with Mexico and Canada to a much higher level, but also to be a much greater degree of fairness and reciprocity. We will have that: fairness and reciprocity. And I say that, finally, because it's been many, many years that we were treated fairly on trade. This is the first major trade deal in many years to earn the strong backing of America's labor unions.\n",
    "\n",
    "I also promised our citizens that I would impose tariffs to confront China's massive theft of America's jobs. Our strategy has worked. Days ago, we signed the groundbreaking new agreement with China that will defend our workers, protect our intellectual property, bring billions and billions of dollars into our treasury, and open vast new markets for products made and grown right here in the U.S.A.\n",
    "\n",
    "For decades, China has taken advantage of the United States. Now we have changed that, but, at the same time, we have perhaps the best relationship we've ever had with China, including with President Xi. They respect what we've done, because, quite frankly, they could never really believe that they were able to get away with what they were doing year after year, decade after decade, without someone in our country stepping up and saying, \"That's enough.\" Now we want to rebuild our country, and that's exactly what we're doing. We are rebuilding our country.\n",
    "\n",
    "As we restore American leadership throughout the world, we are once again standing up for freedom in our hemisphere. That's why my administration reversed the failing policies of the previous administration on Cuba.\n",
    "\n",
    "We are supporting the hopes of Cubans, Nicaraguans, and Venezuelans to restore democracy. The United States is leading a 59-nation diplomatic coalition against the socialist dictator of Venezuela, Nicolás Maduro. Maduro is an illegitimate ruler, a tyrant who brutalizes his people. But Maduro's grip on tyranny will be smashed and broken.\n",
    "\n",
    "Here this evening is a very brave man who carries with him the hopes, dreams, and aspirations of all Venezuelans. Joining us in the Gallery is the true and legitimate President of Venezuela, Juan Guaidó. Mr. President, please take this message back to your homeland. Thank you, Mr. President. Great honor. Thank you very much.\n",
    "\n",
    "Please take this message back that all Americans are united with the Venezuelan people in their righteous struggle for freedom. Thank you very much, Mr. President. Thank you very much.\n",
    "\n",
    "Socialism destroys nations. But always remember: Freedom unifies the soul.\n",
    "\n",
    "To safeguard American liberty, we have invested a record-breaking $2.2 trillion in the United States military. We have purchased the finest planes, missiles, rockets, ships, and every other form of military equipment, and it's all made right here in the U.S.A.\n",
    "\n",
    "We are also getting our allies, finally, to help pay their fair share. I have raised contributions from the other NATO members by more than $400 billion, and the number of allies meeting their minimum obligations has more than doubled. And just weeks ago, for the first time since President Truman established the Air Force more than 70 years earlier, we created a brand-new branch of the United States Armed Forces. It's called the Space Force. Very important.\n",
    "\n",
    "In the Gallery tonight, we have a young gentleman. And what he wants so badly—13 years old—Iain Lanphier. He's an eighth grader from Arizona. Iain, please stand up. Iain has always dreamed of going to space. He was the first in his class and among the youngest at an aviation academy. He aspires to go to the Air Force Academy, and then he has his eye on the Space Force. As Iain says: \"Most people look up at space. I want to look down on the world.\" [Laughter]\n",
    "\n",
    "But sitting behind Iain tonight is his greatest hero of them all. Charles McGee was born in Cleveland, Ohio, one century ago. Charles is one of the last surviving Tuskegee Airmen—the first Black fighter pilots—and he also happens to be Iain's great-grandfather. Incredible story.\n",
    "\n",
    "After more than 130 combat missions in World War II, he came back home to a country still struggling for civil rights and went on to serve America in Korea and Vietnam. On December 7, Charles celebrated his 100th birthday. A few weeks ago, I signed a bill promoting Charles McGee to Brigadier General. And earlier today I pinned the stars on his shoulders in the Oval Office. General McGee, our Nation salutes you. Thank you, sir.\n",
    "\n",
    "From the pilgrims to the Founders, from the soldiers at Valley Forge to the marchers at Selma, and from President Lincoln to the Reverend Martin Luther King, Americans have always rejected limits on our children's future.\n",
    "\n",
    "Members of Congress, we must never forget that the only victories that matter in Washington are victories that deliver for the American people. The people are the heart of our country, their dreams are the soul of our country, and their love is what powers and sustains our country. We must always remember that our job is to put America first.\n",
    "\n",
    "The next step forward in building an inclusive society is making sure that every young American gets a great education and the opportunity to achieve the American Dream. Yet, for too long, countless American children have been trapped in failing government schools. To rescue these students, 18 States have created school choice in the form of Opportunity Scholarships. The programs are so popular that tens of thousands of students remain on a waiting list.\n",
    "\n",
    "One of those students is Janiyah Davis, a fourth grader from Philadelphia. Janiyah. Janiyah's mom, Stephanie, is a single parent. She would do anything to give her daughter a better future. But last year, that future was put further out of reach when Pennsylvania's Governor vetoed legislation to expand school choice to 50,000 children. Janiyah and Stephanie are in the Gallery. Stephanie, thank you so much for being here with your beautiful daughter. Thank you very much.\n",
    "\n",
    "But, Janiyah, I have some good news for you, because I am pleased to inform you that your long wait is over. I can proudly announce tonight that an \"opportunity scholarship\" has become available, it's going to you, and you will soon be heading to the school of your choice.\n",
    "\n",
    "Now I call on Congress to give 1 million American children the same opportunity Janiyah has just received. Pass the Education Freedom Scholarships and Opportunities Act, because no parent should be forced to send their child to a failing government school.\n",
    "\n",
    "Every young person should have a safe and secure environment in which to learn and to grow. For this reason, our magnificent First Lady has launched the \"Be Best\" initiative to advance a safe, healthy, supportive, and drug-free life for the next generation: online, in school, and in our communities. Thank you, Melania, for your extraordinary love and profound care for America's children. Thank you very much. My administration is determined to give our citizens the opportunities they need regardless of age or background. Through our Pledge to American Workers, over 400 companies will also provide new jobs and education opportunities to almost 15 million Americans.\n",
    "\n",
    "My budget also contains an exciting vision for our Nation's high schools. Tonight I ask Congress to support our students and back my plan to offer vocational and technical education in every single high school in America.\n",
    "\n",
    "To expand equal opportunity, I am also proud that we achieved record and permanent funding for our Nation's Historically Black Colleges and Universities.\n",
    "\n",
    "A good life for American families also requires the most affordable, innovative, and high-quality health care system on Earth. Before I took office, health insurance premiums had more than doubled in just 5 years. I moved quickly to provide affordable alternatives. Our new plans are up to 60-percent less expensive and better.\n",
    "\n",
    "I've also made an ironclad pledge to American families: We will always protect patients with preexisting conditions. And we will always protect your Medicare, and we will always protect your Social Security. Always.\n",
    "\n",
    "The American patient should never be blindsided by medical bills. That is why I signed an Executive order requiring price transparency. Many experts believe that transparency, which will go into full effect at the beginning of next year, will be even bigger than health care reform. It will save families massive amounts of money for substantially better care.\n",
    "\n",
    "But as we work to improve Americans' health care, there are those who want to take away your health care, take away your doctor, and abolish private insurance entirely.\n",
    "\n",
    "Audience members. Boo!\n",
    "\n",
    "The President. One hundred thirty-two lawmakers in this room have endorsed legislation to impose a socialist takeover of our health care system, wiping out the private health insurance plans of 180 million very happy Americans. To those watching at home tonight, I want you to know: We will never let socialism destroy American health care.\n",
    "\n",
    "Over 130 legislators in this Chamber have endorsed legislation that would bankrupt our Nation by providing free taxpayer-funded health care to millions of illegal aliens, forcing taxpayers to subsidize free care for anyone in the world who unlawfully crosses our borders. These proposals would raid the Medicare benefits of our seniors, and that our seniors depend on, while acting as a powerful lure for illegal immigration. That is what is happening in California and other States. Their systems are totally out of control, costing taxpayers vast and unaffordable amounts of money.\n",
    "\n",
    "If forcing American taxpayers to provide unlimited free health care to illegal aliens sounds fair to you, then stand with the radical left. But if you believe that we should defend American patients and American seniors, then stand with me and pass legislation to prohibit free Government health care for illegal aliens.\n",
    "\n",
    "This will be a tremendous boon to our already very strongly guarded southern border where, as we speak, a long, tall, and very powerful wall is being built. We have now completed over 100 miles and have over 500 miles fully completed in a very short period of time. Early next year, we will have substantially more than 500 miles completed.\n",
    "\n",
    "My administration is also taking on the big pharmaceutical companies. We have approved a record number of affordable generic drugs, and medicines are being approved by the FDA at a faster clip than ever before. And I was pleased to announce last year that, for the first time in 51 years, the cost of prescription drugs actually went down. And working together, Congress can reduce drug prices substantially from current levels. I've been speaking to Senator Chuck Grassley of Iowa and others in Congress in order to get something on drug pricing done, and done quickly and properly. I'm calling for bipartisan legislation that achieves the goal of dramatically lowering prescription drug prices. Get a bill on my desk, and I will sign it into law immediately.\n",
    "\n",
    "Audience members. H.R. 3! H.R. 3! H.R. 3!\n",
    "\n",
    "The President. With unyielding commitment, we are curbing the opioid epidemic. Drug overdose deaths declined for the first time in nearly 30 years. Among the States hardest hit, Ohio is down 22 percent, Pennsylvania is down 18 percent, Wisconsin is down 10 percent, and we will not quit until we have beaten the opioid epidemic once and for all.\n",
    "\n",
    "Protecting Americans' health also means fighting infectious diseases. We are coordinating with the Chinese Government and working closely together on the coronavirus outbreak in China. My administration will take all necessary steps to safeguard our citizens from this threat.\n",
    "\n",
    "We have launched ambitious new initiatives to substantially improve care for Americans with kidney disease, Alzheimer's, and those struggling with mental health. And because Congress was so good as to fund my request, new cures for childhood cancer, and we will eradicate the AIDS epidemic in America by the end of this decade.\n",
    "\n",
    "Almost every American family knows the pain when a loved one is diagnosed with a serious illness. Here tonight is a special man, beloved by millions of Americans who just received a stage-4 advanced cancer diagnosis. This is not good news, but what is good news is that he is the greatest fighter and winner that you will ever meet. Rush Limbaugh, thank you for your decades of tireless devotion to our country.\n",
    "\n",
    "And, Rush, in recognition of all that you have done for our Nation, the millions of people a day that you speak to and that you inspire, and all of the incredible work that you have done for charity, I am proud to announce tonight that you will be receiving our country's highest civilian honor, the Presidential Medal of Freedom.\n",
    "\n",
    "I will now ask the First Lady of the United States to present you with the honor. Please.\n",
    "\n",
    "[At this point, the First Lady presented the Presidential Medal of Freedom to radio show host Rush H. Limbaugh III, who was seated beside her in the House Gallery.]\n",
    "\n",
    "Audience member. Thank you, Rush! [Applause]\n",
    "\n",
    "The President. Rush and Kathryn, congratulations. Thank you, Kathryn.\n",
    "\n",
    "As we pray for all who are sick, we know that America is constantly achieving new medical breakthroughs. In 2017, doctors at St. Luke's Hospital in Kansas City delivered one of the earliest premature babies ever to survive. Born at just 21 weeks and 6 days, and weighing less than a pound, Ellie Schneider was a born fighter. Through the skill of her doctors and the prayers of her parents, little Ellie kept on winning the battle of life. Today, Ellie is a strong, healthy 2-year-old girl sitting with her amazing mother Robin in the Gallery. Ellie and Robin, we are glad to have you with us tonight.\n",
    "\n",
    "Ellie reminds us that every child is a miracle of life. And thanks to modern medical wonders, 50 percent of very premature babies delivered at the hospital where Ellie was born now survive. It's an incredible thing. Thank you very much.\n",
    "\n",
    "Our goal should be to ensure that every baby has the best chance to thrive and grow just like Ellie. That is why I'm asking Congress to provide an additional $50 million to fund neonatal research for America's youngest patients. That is why I'm also calling upon Members of Congress here tonight to pass legislation finally banning the late-term abortion of babies. Whether we are Republican, Democrat, or Independent, surely we must all agree that every human life is a sacred gift from God.\n",
    "\n",
    "As we support America's moms and dads, I was recently proud to sign the law providing new parents in the Federal workforce paid family leave, serving as a model for the rest of the country. Now I call on the Congress to pass the bipartisan Advancing Support for Working Families Act, extending family leave to mothers and fathers all across our Nation.\n",
    "\n",
    "Forty million American families have an average $2,200 extra thanks to our child tax credit. I've also overseen historic funding increases for high-quality childcare, enabling 17 States to help more children, many of which have reduced or eliminated their wait-lists altogether. And I sent Congress a plan with a vision to further expand access to high-quality childcare and urge you to act immediately.\n",
    "\n",
    "To protect the environment, days ago, I announced that the United States will join the 1 Trillion Trees initiative, an ambitious effort to bring together government and private sector to plant new trees in America and all around the world.\n",
    "\n",
    "We must also rebuild America's infrastructure. I ask you to pass Senator John Barrasso's highway bill to invest in new roads, bridges, and tunnels all across our land. I'm also committed to ensuring that every citizen can have access to high-speed internet, including and especially in rural America.\n",
    "\n",
    "A better tomorrow for all Americans also requires us to keep America safe. That means supporting the men and women of law enforcement at every level, including our Nation's heroic ICE officers. Last year, our brave ICE officers arrested more than 120,000 criminal aliens charged with nearly 10,000 burglaries, 5,000 sexual assaults, 45,000 violent assaults, and 2,000 murders.\n",
    "\n",
    "Tragically, there are many cities in America where radical politicians have chosen to provide sanctuary for these criminal illegal aliens.\n",
    "\n",
    "Audience members. Boo!\n",
    "\n",
    "The President. In sanctuary cities, local officials order police to release dangerous criminal aliens to prey upon the public, instead of handing them over to ICE to be safely removed.\n",
    "\n",
    "Just 29 days ago, a criminal alien freed by the sanctuary city of New York was charged with the brutal rape and murder of a 92-year-old woman. The killer had been previously arrested for assault, but under New York's sanctuary policies, he was set free. If the city had honored ICE's detainer request, his victim would still be alive today.\n",
    "\n",
    "The State of California passed an outrageous law declaring their whole State to be a sanctuary for criminal illegal immigrants—a very terrible sanctuary—with catastrophic results. Here is just one tragic example. In December 2018, California police detained an illegal alien with five prior arrests, including convictions for robbery and assault. But as required by California's Sanctuary Law, local authorities released him.\n",
    "\n",
    "Days later, the criminal alien went on a gruesome spree of deadly violence. He viciously shot one man going about his daily work. He approached a woman sitting in her car and shot her in the arm and in the chest. He walked into a convenience store and wildly fired his weapon. He hijacked a truck and smashed into vehicles, critically injuring innocent victims. One of the victims is—a terrible, terrible situation; died—51-year-old American named Rocky Jones.\n",
    "\n",
    "Rocky was at a gas station when this vile criminal fired eight bullets at him from close range, murdering him in cold blood. Rocky left behind a devoted family, including his brothers, who loved him more than anything else in the world. One of his grieving brothers is here with us tonight. Jody, would you please stand?\n",
    "\n",
    "Audience member. Jody!\n",
    "\n",
    "The President. Jody, thank you. Jody our hearts weep for your loss, and we will not rest until you have justice. Senator Thom Tillis has introduced legislation to allow Americans like Jody to sue sanctuary cities and States when a loved one is hurt or killed as a result of these deadly practices.\n",
    "\n",
    "I ask Congress to pass the Justice for Victims of Sanctuary Cities Act immediately. The United States of America should be a sanctuary for law-abiding Americans, not criminal aliens.\n",
    "\n",
    "In the last 3 years, ICE has arrested over 5,000 wicked human traffickers. And I have signed nine pieces of legislation to stamp out the menace of human trafficking, domestically and all around the globe. My administration has undertaken an unprecedented effort to secure the southern border of the United States.\n",
    "\n",
    "Before I came into office, if you showed up illegally on our southern border and were arrested, you were simply released and allowed into our country, never to be seen again. My administration has ended catch-and-release. If you come illegally, you will now be promptly removed from our country.\n",
    "\n",
    "Very importantly, we entered into historic cooperation agreements with the governments of Mexico, Honduras, El Salvador, and Guatemala. As a result of our unprecedented efforts, illegal crossings are down 75 percent since May, dropping 8 straight months in a row. And as the wall rapidly goes up, drug seizures rise, and the border crossings are down, and going down very rapidly.\n",
    "\n",
    "Last year, I traveled to the border in Texas and met Chief Patrol Agent Raul Ortiz. Over the last 24 months, Agent Ortiz and his team have seized more than 200,000 pounds of poisonous narcotics, arrested more than 3,000 human smugglers, and rescued more than 2,000 migrants. Days ago, Agent Ortiz was promoted to Deputy Chief of Border Patrol, and he joins us tonight. Chief Ortiz, please stand. A grateful nation thanks you and all of the heroes of Border Patrol and ICE. Thank you very much. Thank you.\n",
    "\n",
    "To build on these historic gains, we are working on legislation to replace our outdated and randomized immigration system with one based on merit, welcoming those who follow the rules, contribute to our economy, support themselves financially, and uphold our values.\n",
    "\n",
    "With every action, my administration is restoring the rule of law and reasserting the culture of American freedom. Working with Senate Majority Leader Mitch McConnell—thank you, Mitch—and his colleagues in the Senate, we have confirmed a record number of 187 new Federal judges to uphold our Constitution as written. This includes two brilliant new Supreme Court Justices, Neil Gorsuch and Brett Kavanaugh. Thank you. And we have many in the pipeline. [Laughter]\n",
    "\n",
    "My administration is also defending religious liberty, and that includes the constitutional right to pray in public schools. In America, we don't punish prayer. We don't tear down crosses. We don't ban symbols of faith. We don't muzzle preachers and pastors. In America, we celebrate faith, we cherish religion, we lift our voices in prayer, and we raise our sights to the glory of God.\n",
    "\n",
    "Just as we believe in the First Amendment, we also believe in another constitutional right that is under siege all across our country. So long as I am President, I will always protect your Second Amendment right to keep and bear arms. In reaffirming our heritage as a free nation, we must remember that America has always been a frontier nation. Now we must embrace the next frontier, America's manifest destiny in the stars. I am asking Congress to fully fund the Artemis program to ensure that the next man and the first woman on the Moon will be American astronauts, using this as a launching pad to ensure that America is the first nation to plant its flag on Mars.\n",
    "\n",
    "My administration is also strongly defending our national security and combating radical Islamic terrorism.\n",
    "\n",
    "Last week, I announced a groundbreaking plan for peace between Israel and the Palestinians. Recognizing that all past attempts have failed, we must be determined and creative in order to stabilize the region and give millions of young people the chance to realize a better future.\n",
    "\n",
    "Three years ago, the barbarians of ISIS held over 20,000 square miles of territory in Iraq and Syria. Today, the ISIS territorial caliphate has been 100 percent destroyed, and the founder and leader of ISIS—the bloodthirsty killer known as al-Baghdadi—is dead.\n",
    "\n",
    "We are joined this evening by Carl and Marsha Mueller. After graduating from college, their beautiful daughter Kayla became a humanitarian aid worker. She once wrote: \"Some people find God in church. Some people find God in nature. Some people find God in love. I find God in suffering. I've known for some time what my life's work is, using my hands as tools to relieve suffering.\" In 2013, while caring for suffering civilians in Syria, Kayla was kidnapped, tortured, and enslaved by ISIS and kept as a prisoner of al-Baghdadi himself. After more than 500 horrifying days of captivity, al-Baghdadi murdered young, beautiful Kayla. She was just 26 years old.\n",
    "\n",
    "On the night that U.S. Special Forces Operations ended al-Baghdadi's miserable life, the Chairman of the Joint Chiefs of Staff, General Mark Milley, received a call in the Situation Room. He was told that the brave men of the elite special forces team that so perfectly carried out the operation had given their mission a name: \"Task Force 8–14.\" It was a reference to a special day: August 14, Kayla's birthday. Carl and Marsha, America's warriors never forgot Kayla, and neither will we. Thank you.\n",
    "\n",
    "Every day, America's men and women in uniform demonstrate the infinite depth of love that dwells in the human heart. One of these American heroes was Army Staff Sergeant Christopher Hake. On his second deployment to Iraq in 2008, Sergeant Hake wrote a letter to his 1-year-old son, Gage: \"I will be with you again,\" he wrote to Gage. \"I will teach you to ride your first bike, build your first sandbox, watch you play sports, and see you have kids also. I love you, son. Take care of your mother. I am always with you. Daddy.\"\n",
    "\n",
    "On Easter Sunday of 2008, Chris was out on patrol in Baghdad when his Bradley fighting vehicle was hit by a roadside bomb. That night, he made the ultimate sacrifice for our country. Sergeant Hake now rests in eternal glory in Arlington, and his wife Kelli is in the Gallery tonight, joined by their son, who is now a 13-year-old and doing very, very well. To Kelli and Gage: Chris will live in our hearts forever. He is looking down on you now. Thank you. Thank you very much. Thank you both very much.\n",
    "\n",
    "The terrorist responsible for killing Sergeant Hake was Qasem Soleimani, who provided the deadly roadside bomb that took Chris's life. Soleimani was the Iranian regime's most ruthless butcher, a monster who murdered or wounded thousands of American servicemembers in Iraq. As the world's top terrorist, Soleimani orchestrated the deaths of countless men, women, and children. He directed the December assault and went on to assault U.S. forces in Iraq. Was actively planning new attacks when we hit him very hard. And that's why, last month, at my direction, the U.S. military executed a flawless precision strike that killed Soleimani and terminated his evil reign of terror forever. Our message to the terrorists is clear: You will never escape American justice. If you attack our citizens, you forfeit your life.\n",
    "\n",
    "In recent months, we have seen proud Iranians raise their voices against their oppressive rulers. The Iranian regime must abandon its pursuit of nuclear weapons; stop spreading terror, death, and destruction; and start working for the good of its own people.\n",
    "\n",
    "Because of our powerful sanctions, the Iranian economy is doing very, very poorly. We can help them make a very good and short-time recovery. It can all go very quickly, but perhaps they are too proud or too foolish to ask for that help. We are here. Let's see which road they choose. It is totally up to them.\n",
    "\n",
    "As we defend American lives, we are working to end America's wars in the Middle East. In Afghanistan, the determination and valor of our warfighters has allowed us to make tremendous progress, and peace talks are now underway. I am not looking to kill hundreds of thousands of people in Afghanistan, many of them totally innocent. It is also not our function to serve other nations as law enforcement agencies. These are warfighters that we have—the best in the world—and they either want to fight to win or not fight at all. We are working to finally end America's longest war and bring our troops back home.\n",
    "\n",
    "War places a heavy burden on our Nation's extraordinary military families, especially spouses like Amy Williams from Fort Bragg, North Carolina, and her two children, 6-year-old Elliana and 3-year-old Rowan. Amy works full-time and volunteers countless hours helping other military families. For the past 7 months, she has done it all while her husband, Sergeant First Class Townsend Williams, is in Afghanistan on his fourth deployment in the Middle East. Amy's kids haven't seen their father's face in many months. Amy, your family's sacrifice makes it possible for all of our families to live in safety and in peace, and we want to thank you. Thank you, Amy.\n",
    "\n",
    "But, Amy, there is one more thing. Tonight we have a very special surprise. I am thrilled to inform you that your husband is back from deployment. He is here with us tonight, and we couldn't keep him waiting any longer.\n",
    "\n",
    "Audience members. U.S.A.! U.S.A.! U.S.A.!\n",
    "\n",
    "The President. Welcome home, Sergeant Williams. Thank you very much.\n",
    "\n",
    "As the world bears witness tonight, America is a land of heroes. This is a place where greatness is born, where destinies are forged, and where legends come to life. This is the home of Thomas Edison and Teddy Roosevelt, of many great generals including Washington, Pershing, Patton, and MacArthur. This is the home of Abraham Lincoln, Frederick Douglass, Amelia Earhart, Harriet Tubman, the Wright Brothers, Neil Armstrong, and so many more. This is the country where children learn names like Wyatt Earp, Davy Crockett, and Annie Oakley. This is the place where the pilgrims landed at Plymouth and where Texas patriots made their last stand at the Alamo—[applause]—the beautiful, beautiful Alamo.\n",
    "\n",
    "The American nation was carved out of the vast frontier by the toughest, strongest, fiercest, and most determined men and women ever to walk on the face of the Earth. Our ancestors braved the unknown; tamed the wilderness; settled the Wild West; lifted millions from poverty, disease, and hunger; vanquished tyranny and fascism; ushered the world to new heights of science and medicine; laid down the railroads, dug out the canals, raised up the skyscrapers. And, ladies and gentlemen, our ancestors built the most exceptional republic ever to exist in all of human history, and we are making it greater than ever before.\n",
    "\n",
    "This is our glorious and magnificent inheritance. We are Americans. We are pioneers. We are the pathfinders. We settled the New World, we built the modern world, and we changed history forever by embracing the eternal truth that everyone is made equal by the hand of Almighty God.\n",
    "\n",
    "America is the place where anything can happen. America is the place where anyone can rise. And here, on this land, on this soil, on this continent, the most incredible dreams come true.\n",
    "\n",
    "This Nation is our canvas, and this country is our masterpiece. We look at tomorrow and see unlimited frontiers just waiting to be explored. Our brightest discoveries are not yet known. Our most thrilling stories are not yet told. Our grandest journeys are not yet made. The American age, the American epic, the American adventure has only just begun.\n",
    "\n",
    "Our spirit is still young, the Sun is still rising, God's grace is still shining, and, my fellow Americans, the best is yet to come.\n",
    "\n",
    "Thank you, God bless you, and God bless America. Thank you very much.\"\"\""
   ]
  },
  {
   "cell_type": "code",
   "execution_count": 182,
   "id": "0d080408",
   "metadata": {},
   "outputs": [],
   "source": [
    "text2=\"\"\"Thank you. Mr. Speaker, Mr. Vice President, Members of Congress, my fellow Americans: Tonight marks the eighth year that I've come here to report on the State of the Union. And for this final one, I'm going to try to make it a little shorter. I know some of you are antsy to get back to Iowa. [Laughter] I've been there. I'll be shaking hands afterwards if you want some tips. [Laughter]\n",
    "\n",
    "Now, I understand that because it's an election season, expectations for what we will achieve this year are low. But, Mr. Speaker, I appreciate the constructive approach that you and other leaders took at the end of last year to pass a budget and make tax cuts permanent for working families. So I hope we can work together this year on some bipartisan priorities like criminal justice reform and helping people who are battling prescription drug abuse and heroin abuse. So, who knows, we might surprise the cynics again.\n",
    "\n",
    "But tonight I want to go easy on the traditional list of proposals for the year ahead. Don't worry, I've got plenty—[laughter]—from helping students learn to write computer code to personalizing medical treatments for patients. And I will keep pushing for progress on the work that I believe still needs to be done: fixing a broken immigration system, protecting our kids from gun violence, equal pay for equal work, paid leave, raising the minimum wage. All these things still matter to hard-working families. They're still the right thing to do. And I won't let up until they get done.\n",
    "\n",
    "But for my final address to this Chamber, I don't want to just talk about next year. I want to focus on the next 5 years, the next 10 years, and beyond. I want to focus on our future.\n",
    "\n",
    "We live in a time of extraordinary change, change that's reshaping the way we live, the way we work, our planet, our place in the world. It's change that promises amazing medical breakthroughs, but also economic disruptions that strain working families. It promises this education for girls in the most remote villages, but also connects terrorists plotting an ocean away. It's change that can broaden opportunity or widen inequality. And whether we like it or not, the pace of this change will only accelerate.\n",
    "\n",
    "America has been through big changes before: wars and depression, the influx of new immigrants, workers fighting for a fair deal, movements to expand civil rights. Each time, there have been those who told us to fear the future; who claimed we could slam the brakes on change; who promised to restore past glory if we just got some group or idea that was threatening America under control. And each time, we overcame those fears. We did not, in the words of Lincoln, adhere to the \"dogmas of the quiet past.\" Instead, we thought anew and acted anew. We made change work for us, always extending America's promise outward, to the next frontier, to more people. And because we did, because we saw opportunity with a—where others saw peril, we emerged stronger and better than before.\n",
    "\n",
    "What was true then can be true now. Our unique strengths as a nation—our optimism and work ethic, our spirit of discovery, our diversity, our commitment to rule of law—these things give us everything we need to ensure prosperity and security for generations to come.\n",
    "\n",
    "In fact, it's in that spirit that we have made progress these past 7 years. That's how we recovered from the worst economic crisis in generations. That's how we reformed our health care system and reinvented our energy sector. That's how we delivered more care and benefits to our troops coming home and our veterans. That's how we secured the freedom in every State to marry the person we love.\n",
    "\n",
    "But such progress is not inevitable. It's the result of choices we make together. And we face such choices right now. Will we respond to the changes of our time with fear, turning inward as a nation, turning against each other as a people? Or will we face the future with confidence in who we are, in what we stand for, in the incredible things that we can do together?\n",
    "\n",
    "So let's talk about the future and four big questions that I believe we as a country have to answer, regardless of who the next President is or who controls the next Congress. First, how do we give everyone a fair shot at opportunity and security in this new economy? Second, how do we make technology work for us and not against us, especially when it comes to solving urgent challenges like climate change? Third, how do we keep America safe and lead the world without becoming its policeman? And finally, how can we make our politics reflect what's best in us and not what's worst?\n",
    "\n",
    "Let me start with the economy and a basic fact: The United States of America right now has the strongest, most durable economy in the world. We're in the middle of the longest streak of private sector job creation in history. More than 14 million new jobs, the strongest 2 years of job growth since the 1990s, an unemployment rate cut in half. Our auto industry just had its best year ever. That's just part of a manufacturing surge that's created nearly 900,000 new jobs in the past 6 years. And we've done all this while cutting our deficits by almost three-quarters.\n",
    "\n",
    "Anyone claiming that America's economy is in decline is peddling fiction. Now, what is true—and the reason that a lot of Americans feel anxious—is that the economy has been changing in profound ways, changes that started long before the great recession hit, changes that have not let up.\n",
    "\n",
    "Today, technology doesn't just replace jobs on the assembly line, but any job where work can be automated. Companies in a global economy can locate anywhere, and they face tougher competition. As a result, workers have less leverage for a raise. Companies have less loyalty to their communities. And more and more wealth and income is concentrated at the very top.\n",
    "\n",
    "All these trends have squeezed workers, even when they have jobs, even when the economy is growing. It's made it harder for a hard-working family to pull itself out of poverty, harder for young people to start their careers, tougher for workers to retire when they want to. And although none of these trends are unique to America, they do offend our uniquely American belief that everybody who works hard should get a fair shot.\n",
    "\n",
    "For the past 7 years, our goal has been a growing economy that also works better for everybody. We've made progress, but we need to make more. And despite all the political arguments that we've had these past few years, there are actually some areas where Americans broadly agree.\n",
    "\n",
    "We agree that real opportunity requires every American to get the education and training they need to land a good-paying job. The bipartisan reform of No Child Left Behind was an important start, and together, we've increased early childhood education, lifted high school graduation rates to new highs, boosted graduates in fields like engineering. In the coming years, we should build on that progress, by providing pre-K for all and offering every student the hands-on computer science and math classes that make them job-ready on day one. We should recruit and support more great teachers for our kids.\n",
    "\n",
    "And we have to make college affordable for every American. No hard-working student should be stuck in the red. We've already reduced student loan payments by—to 10 percent of a borrower's income. And that's good. But now we've actually got to cut the cost of college. Providing 2 years of community college at no cost for every responsible student is one of the best ways to do that, and I'm going to keep fighting to get that started this year. It's the right thing to do.\n",
    "\n",
    "But a great education isn't all we need in this new economy. We also need benefits and protections that provide a basic measure of security. It's not too much of a stretch to say that some of the only people in America who are going to work the same job, in the same place, with a health and retirement package for 30 years are sitting in this Chamber. [Laughter] For everyone else, especially folks in their forties and fifties, saving for retirement or bouncing back from job loss has gotten a lot tougher. Americans understand that at some point in their careers, in this new economy, they may have to retool, they may have to retrain. But they shouldn't lose what they've already worked so hard to build in the process.\n",
    "\n",
    "That's why Social Security and Medicare are more important than ever. We shouldn't weaken them, we should strengthen them. And for Americans short of retirement, basic benefits should be just as mobile as everything else is today. That, by the way, is what the Affordable Care Act is all about. It's about filling the gaps in employer-based care so that when you lose a job or you go back to school or you strike out and launch that new business, you'll still have coverage. Nearly 18 million people have gained coverage so far. And in the process, health care inflation has slowed. And our businesses have created jobs every single month since it became law.\n",
    "\n",
    "Now, I'm guessing we won't agree on health care anytime soon, but—[laughter]—a little applause back there. [Laughter] Just a guess. But there should be other ways parties can work together to improve economic security. Say a hard-working American loses his job. We shouldn't just make sure that he can get unemployment insurance, we should make sure that program encourages him to retrain for a business that's ready to hire him. If that new job doesn't pay as much, there should be a system of wage insurance in place so that he can still pay his bills. And even if he's going from job to job, he should still be able to save for retirement and take his savings with him. That's the way we make the new economy work better for everybody.\n",
    "\n",
    "I also know Speaker Ryan has talked about his interest in tackling poverty. America is about giving everybody willing to work a chance, a hand up. And I'd welcome a serious discussion about strategies we can all support, like expanding tax cuts for low-income workers who don't have children.\n",
    "\n",
    "But there are some areas where—we just have to be honest—it has been difficult to find agreement over the last 7 years. And a lot of them fall under the category of what role the Government should play in making sure the system's not rigged in favor of the wealthiest and biggest corporations. And it's an honest disagreement, and the American people have a choice to make.\n",
    "\n",
    "I believe a thriving private sector is the lifeblood of our economy. I think there are outdated regulations that need to be changed. There is redtape that needs to be cut. [Applause] There you go! Yes! See? But after years now of record corporate profits, working families won't get more opportunity or bigger paychecks just by letting big banks or big oil or hedge funds make their own rules at everybody else's expense. Middle class families are not going to feel more secure because we allowed attacks on collective bargaining to go unanswered. Food stamp recipients did not cause the financial crisis; recklessness on Wall Street did. Immigrants aren't the principal reason wages haven't gone up; those decisions are made in the boardrooms that all too often put quarterly earnings over long-term returns. It's sure not the average family watching tonight that avoids paying taxes through offshore accounts. [Laughter]\n",
    "\n",
    "The point is, I believe that in this new economy, workers and startups and small businesses need more of a voice, not less. The rules should work for them. And I'm not alone in this. This year, I plan to lift up the many businesses who have figured out that doing right by their workers or their customers or their communities ends up being good for their shareholders. And I want to spread those best practices across America. That's part of a brighter future.\n",
    "\n",
    "In fact, it turns, out many of our best corporate citizens are also our most creative. And this brings me to the second big question we as a country have to answer: How do we reignite that spirit of innovation to meet our biggest challenges?\n",
    "\n",
    "Sixty years ago, when the Russians beat us into space, we didn't deny Sputnik was up there. [Laughter] We didn't argue about the science or shrink our research and development budget. We built a space program almost overnight. And 12 years later, we were walking on the Moon.\n",
    "\n",
    "Now, that spirit of discovery is in our DNA. America is Thomas Edison and the Wright Brothers and George Washington Carver. America is Grace Hopper and Katherine Johnson and Sally Ride. America is every immigrant and entrepreneur from Boston to Austin to Silicon Valley, racing to shape a better future. That's who we are.\n",
    "\n",
    "And over the past 7 years, we've nurtured that spirit. We've protected an open Internet and taken bold new steps to get more students and low-income Americans online. We've launched next-generation manufacturing hubs and online tools that give an entrepreneur everything he or she needs to start a business in a single day. But we can do so much more.\n",
    "\n",
    "Last year, Vice President Biden said that with a new moonshot, America can cure cancer. Last month, he worked with this Congress to give scientists at the National Institutes of Health the strongest resources that they've had in over a decade. Well—so tonight I'm announcing a new national effort to get it done. And because he's gone to the mat for all of us on so many issues over the past 40 years, I'm putting Joe in charge of mission control. For the loved ones we've all lost, for the families that we can still save, let's make America the country that cures cancer once and for all. What do you say, Joe? Let's make it happen.\n",
    "\n",
    "Now, medical research is critical. We need the same level of commitment when it comes to developing clean energy sources. Look, if anybody still wants to dispute the science around climate change, have at it. [Laughter] You will be pretty lonely, because you'll be debating our military, most of America's business leaders, the majority of the American people, almost the entire scientific community, and 200 nations around the world who agree it's a problem and intend to solve it. But even if the planet wasn't at stake, even if 2014 wasn't the warmest year on record—until 2015 turned out to be even hotter—why would we want to pass up the chance for American businesses to produce and sell the energy of the future? Listen, 7 years ago, we made the single biggest investment in clean energy in our history. Here are the results. In fields from Iowa to Texas, wind power is now cheaper than dirtier, conventional power. On rooftops from Arizona to New York, solar is saving Americans tens of millions of dollars a year on their energy bills and employs more Americans than coal in jobs that pay better than average. We're taking steps to give homeowners the freedom to generate and store their own energy, something, by the way, that environmentalists and Tea Partiers have teamed up to support. And meanwhile, we've cut our imports of foreign oil by nearly 60 percent and cut carbon pollution more than any other country on Earth. Gas under 2 bucks a gallon ain't bad either. [Laughter]\n",
    "\n",
    "Now we've got to accelerate the transition away from old, dirtier energy sources. Rather than subsidize the past, we should invest in the future, especially in communities that rely on fossil fuels. We do them no favor when we don't show them where the trends are going. And that's why I'm going to push to change the way we manage our oil and coal resources so that they better reflect the costs they impose on taxpayers and our planet. And that way, we put money back into those communities and put tens of thousands of Americans to work building a 21st-century transportation system.\n",
    "\n",
    "Now, none of this is going to happen overnight. And yes, there are plenty of entrenched interests who want to protect the status quo. But the jobs we'll create, the money we'll save, the planet we'll preserve—that is the kind of future our kids and our grandkids deserve. And it's within our grasp.\n",
    "\n",
    "Now, climate change is just one of many issues where our security is linked to the rest of the world. And that's why the third big question that we have to answer together is how to keep America safe and strong without either isolating ourselves or trying to nation-build everywhere there's a problem.\n",
    "\n",
    "Now, I told you earlier all the talk of America's economic decline is political hot air. Well, so is all the rhetoric you hear about our enemies getting stronger and America getting weaker. Let me tell you something: The United States of America is the most powerful nation on Earth. Period. [Applause] Period. It's not even close. [Applause] It's not even close. It's not even close. We spend more on our military than the next eight nations combined. Our troops are the finest fighting force in the history of the world. [Applause] All right. No nation attacks us directly, or our allies, because they know that's the path to ruin. Surveys show our standing around the world is higher than when I was elected to this office, and when it comes to every important international issue, people of the world do not look to Beijing or Moscow to lead. They call us. So I think it's useful to level set here, because when we don't, we don't make good decisions.\n",
    "\n",
    "Now, as someone who begins every day with an intelligence briefing, I know this is a dangerous time. But that's not primarily because of some looming superpower out there, and it's certainly not because of diminished American strength. In today's world, we're threatened less by evil empires and more by failing states.\n",
    "\n",
    "The Middle East is going through a transformation that will play out for a generation, rooted in conflicts that date back millennia. Economic headwinds are blowing in from a Chinese economy that is in significant transition. Even as their economy severely contracts, Russia is pouring resources in to prop up Ukraine and Syria, client states that they saw slipping away from their orbit. And the international system we built after World War II is now struggling to keep pace with this new reality. It's up to us, the United States of America, to help remake that system. And to do that well, it means that we've got to set priorities. Priority number one is protecting the American people and going after terrorist networks. Both Al Qaida and now ISIL pose a direct threat to our people, because in today's world, even a handful of terrorists who place no value on human life, including their own, can do a lot of damage. They use the Internet to poison the minds of individuals inside our country. Their actions undermine and destabilize our allies. We have to take them out.\n",
    "\n",
    "But as we focus on destroying ISIL, over-the-top claims that this is world war III just play into their hands. Masses of fighters on the back of pickup trucks, twisted souls plotting in apartments or garages, they pose an enormous danger to civilians; they have to be stopped. But they do not threaten our national existence. That is the story ISIL wants to tell. That's the kind of propaganda they use to recruit. We don't need to build them up to show that we're serious, and we sure don't need to push away vital allies in this fight by echoing the lie that ISIL is somehow representative of one of the world's largest religions. We just need to call them what they are: killers and fanatics who have to be rooted out, hunted down, and destroyed.\n",
    "\n",
    "And that's exactly what we're doing. For more than a year, America has led a coalition of more than 60 countries to cut off ISIL's financing, disrupt their plots, stop the flow of terrorist fighters, and stamp out their vicious ideology. With nearly 10,000 airstrikes, we're taking out their leadership, their oil, their training camps, their weapons. We're training, arming, and supporting forces who are steadily reclaiming territory in Iraq and Syria.\n",
    "\n",
    "If this Congress is serious about winning this war and wants to send a message to our troops and the world, authorize the use of military force against ISIL. Take a vote. [Applause] Take a vote. But the American people should know that with or without congressional action, ISIL will learn the same lessons as terrorists before them. If you doubt America's commitment—or mine—to see that justice is done, just ask Usama bin Laden. Ask the leader of Al Qaida in Yemen, who was taken out last year, or the perpetrator of the Benghazi attacks, who sits in a prison cell. When you come after Americans, we go after you. And it may take time, but we have long memories, and our reach has no limits.\n",
    "\n",
    "Our foreign policy has to be focused on the threat from ISIL and Al Qaida, but it can't stop there. For even without ISIL, even without Al Qaida, instability will continue for decades in many parts of the world: in the Middle East, in Afghanistan and parts of Pakistan, in parts of Central America, in Africa and Asia. Some of these places may become safe havens for new terrorist networks. Others will just fall victim to ethnic conflict or famine, feeding the next wave of refugees. The world will look to us to help solve these problems, and our answer needs to be more than tough talk or calls to carpet-bomb civilians. That may work as a TV sound bite, but it doesn't pass muster on the world stage.\n",
    "\n",
    "We also can't try to take over and rebuild every country that falls into crisis, even if it's done with the best of intentions. That's not leadership; that's a recipe for quagmire, spilling American blood and treasure that ultimately will weaken us. It's the lesson of Vietnam; it's the lesson of Iraq. And we should have learned it by now.\n",
    "\n",
    "Now, fortunately there is a smarter approach: a patient and disciplined strategy that uses every element of our national power. It says America will always act, alone if necessary, to protect our people and our allies, but on issues of global concern, we will mobilize the world to work with us and make sure other countries pull their own weight. That's our approach to conflicts like Syria, where we're partnering with local forces and leading international efforts to help that broken society pursue a lasting peace. That's why we built a global coalition, with sanctions and principled diplomacy, to prevent a nuclear-armed Iran. And as we speak, Iran has rolled back its nuclear program, shipped out its uranium stockpile, and the world has avoided another war.\n",
    "\n",
    "That's how we stopped the spread of Ebola in West Africa. Our military, our doctors, our development workers—they were heroic; they set up the platform that then allowed other countries to join in behind us and stamp out that epidemic. Hundreds of thousands, maybe a couple million, lives were saved.\n",
    "\n",
    "That's how we forged a Trans-Pacific Partnership to open markets and protect workers and the environment and advance American leadership in Asia. It cuts 18,000 taxes on products made in America, which will then support more good jobs here in America. With TPP, China does not set the rules in that region, we do. You want to show our strength in this new century? Approve this agreement. Give us the tools to enforce it. It's the right thing to do.\n",
    "\n",
    "Let me give you another example. Fifty years of isolating Cuba had failed to promote democracy. It set us back in Latin America. That's why we restored diplomatic relations, opened the door to travel and commerce, positioned ourselves to improve the lives of the Cuban people. So if you want to consolidate our leadership and credibility in the hemisphere, recognize that the cold war is over. Lift the embargo.\n",
    "\n",
    "The point is, American leadership in the 21st century is not a choice between ignoring the rest of the world—except when we kill terrorists—or occupying and rebuilding whatever society is unraveling. Leadership means a wise application of military power and rallying the world behind causes that are right. It means seeing our foreign assistance as a part of our national security, not something separate, not charity.\n",
    "\n",
    "When we lead nearly 200 nations to the most ambitious agreement in history to fight climate change, yes, that helps vulnerable countries, but it also protects our kids. When we help Ukraine defend its democracy or Colombia resolve a decades-long war, that strengthens the international order we depend on. When we help African countries feed their people and care for the sick, it's the right thing to do, and it prevents the next pandemic from reaching our shores. Right now we're on track to end the scourge of HIV/AIDS. That's within our grasp. And we have the chance to accomplish the same thing with malaria, something I'll be pushing this Congress to fund this year.\n",
    "\n",
    "That's American strength. That's American leadership. And that kind of leadership depends on the power of our example. That's why I will keep working to shut down the prison at Guantanamo. It is expensive, it is unnecessary, and it only serves as a recruitment brochure for our enemies. There's a better way.\n",
    "\n",
    "And that's why we need to reject any politics—any politics—that targets people because of race or religion. Let me just say this. This is not a matter of political correctness, this is a matter of understanding just what it is that makes us strong. The world respects us not just for our arsenal, it respects us for our diversity and our openness and the way we respect every faith.\n",
    "\n",
    "His Holiness Pope Francis told this body from the very spot that I'm standing on tonight that \"to imitate the hatred and violence of tyrants and murderers is the best way to take their place.\" When politicians insult Muslims, whether abroad or our fellow citizens, when a mosque is vandalized or a kid is called names, that doesn't make us safer. That's not telling it what—telling it like it is. It's just wrong. It diminishes us in the eyes of the world. It makes it harder to achieve our goals. It betrays who we are as a country. \"We the People.\" Our Constitution begins with those three simple words, words we've come to recognize mean all the people, not just some; words that insist we rise and fall together, that that's how we might perfect our Union. And that brings me to the fourth and maybe most important thing that I want to say tonight.\n",
    "\n",
    "The future we want—all of us want—opportunity and security for our families, a rising standard of living, a sustainable, peaceful planet for our kids—all that is within our reach. But it will only happen if we work together. It will only happen if we can have rational, constructive debates. It will only happen if we fix our politics.\n",
    "\n",
    "A better politics doesn't mean we have to agree on everything. This is a big country: different regions, different attitudes, different interests. That's one of our strengths too. Our Founders distributed power between States and branches of government and expected us to argue, just as they did, fiercely, over the size and shape of government, over commerce and foreign relations, over the meaning of liberty and the imperatives of security.\n",
    "\n",
    "But democracy does require basic bonds of trust between its citizens. It doesn't work if we think the people who disagree with us are all motivated by malice. It doesn't work if we think that our political opponents are unpatriotic or trying to weaken America. Democracy grinds to a halt without a willingness to compromise or when even basic facts are contested or when we listen only to those who agree with us. Our public life withers when only the most extreme voices get all the attention. And most of all, democracy breaks down when the average person feels their voice doesn't matter, that the system is rigged in favor of the rich or the powerful or some special interest.\n",
    "\n",
    "Too many Americans feel that way right now. It's one of the few regrets of my Presidency: that the rancor and suspicion between the parties has gotten worse instead of better. I have no doubt, a President with the gifts of Lincoln or Roosevelt might have better bridged the divide, and I guarantee, I'll keep trying to be better so long as I hold this office.\n",
    "\n",
    "But, my fellow Americans, this cannot be my task—or any President's—alone. There are a whole lot of folks in this Chamber, good people, who would like to see more cooperation, would like to see a more elevated debate in Washington, but feel trapped by the imperatives of getting elected, by the noise coming out of your base. I know; you've told me. It's the worst kept secret in Washington. And a lot of you aren't enjoying being trapped in that kind of rancor.\n",
    "\n",
    "But that means if we want a better politics—and I'm addressing the American people now—if we want a better politics, it's not enough just to change a Congressman or change a Senator or even change a President. We have to change the system to reflect our better selves.\n",
    "\n",
    "I think we've got to end the practice of drawing our congressional districts so that politicians can pick their voters and not the other way around. Let a bipartisan group do it.\n",
    "\n",
    "I believe we've got to reduce the influence of money in our politics so that a handful of families or hidden interests can't bankroll our elections. And if our existing approach to campaign finance reform can't pass muster in the courts, we need to work together to find a real solution. Because it's a problem. And most of you don't like raising money. [Laughter] I know. I've done it.\n",
    "\n",
    "We've got to make it easier to vote, not harder. We need to modernize it for the way we live now. This is America: We want to make it easier for people to participate. And over the course of this year, I intend to travel the country to push for reforms that do just that. But I can't do these things on my own. Changes in our political process—in not just who gets elected, but how they get elected—that will only happen when the American people demand it. It depends on you. That's what's meant by a government of, by, and for the people.\n",
    "\n",
    "What I'm suggesting is hard. It's a lot easier to be cynical; to accept that change is not possible and politics is hopeless and the problem is, all the folks who are elected don't care; and to believe that our voices and our actions don't matter. But if we give up now, then we forsake a better future. Those with money and power will gain greater control over the decisions that could send a young soldier to war or allow another economic disaster or roll back the equal rights and voting rights that generations of Americans have fought, even died, to secure. And then, as frustration grows, there will be voices urging us to fall back into our respective tribes, to scapegoat fellow citizens who don't look like us or pray like us or vote like we do or share the same background.\n",
    "\n",
    "We can't afford to go down that path. It won't deliver the economy we want. It will not produce the security we want. But most of all, it contradicts everything that makes us the envy of the world.\n",
    "\n",
    "So, my fellow Americans, whatever you may believe, whether you prefer one party or no party, whether you supported my agenda or fought as hard as you could against it, our collective futures depends on your willingness to uphold your duties as a citizen. To vote. To speak out. To stand up for others, especially the weak, especially the vulnerable, knowing that each of us is only here because somebody, somewhere, stood up for us. We need every American to stay active in our public life—and not just during election time—so that our public life reflects the goodness and the decency that I see in the American people every single day.\n",
    "\n",
    "It is not easy. Our brand of democracy is hard. But I can promise that a little over a year from now, when I no longer hold this office, I will be right there with you as a citizen, inspired by those voices of fairness and vision, of grit and good humor and kindness, that have helped America travel so far. Voices that help us see ourselves not, first and foremost, as Black or White or Asian or Latino, not as gay or straight, immigrant or native born, not Democrat or Republican, but as Americans first, bound by a common creed. Voices Dr. King believed would have the final word: voices of \"unarmed truth and unconditional love.\"\n",
    "\n",
    "And they're out there, those voices. They don't get a lot of attention; they don't seek a lot of fanfare; but they're busy doing the work this country needs doing. I see them everywhere I travel in this incredible country of ours. I see you, the American people. And in your daily acts of citizenship, I see our future unfolding.\n",
    "\n",
    "I see it in the worker on the assembly line who clocked extra shifts to keep his company open and the boss who pays him higher wages instead of laying him off. I see it in the dreamer who stays up late at night to finish her science project and the teacher who comes in early, maybe with some extra supplies that she bought because she knows that that young girl might someday cure a disease.\n",
    "\n",
    "I see it in the American who served his time, made bad mistakes as a child, but now is dreaming of starting over. And I see it in the business owner who gives him that second chance. The protester determined to prove that justice matters and the young cop walking the beat, treating everybody with respect, doing the brave, quiet work of keeping us safe.\n",
    "\n",
    "I see it in the soldier who gives almost everything to save his brothers, the nurse who tends to him till he can run a marathon, the community that lines up to cheer him on. It's the son who finds the courage to come out as who he is and the father whose love for that son overrides everything he's been taught.\n",
    "\n",
    "I see it in the elderly woman who will wait in line to cast her vote as long as she has to, the new citizen who casts his vote for the first time, the volunteers at the polls who believe every vote should count. Because each of them, in different ways, know how much that precious right is worth.\n",
    "\n",
    "That's the America I know. That's the country we love: clear eyed, big hearted, undaunted by challenge. Optimistic that unarmed truth and unconditional love will have the final word. That's what makes me so hopeful about our future. I believe in change because I believe in you, the American people. And that's why I stand here as confident as I have ever been that the state of our Union is strong.\n",
    "\n",
    "Thank you. God bless you. God bless the United States of America. Thank you.\n",
    "\"\"\""
   ]
  },
  {
   "cell_type": "markdown",
   "id": "7020c0bd",
   "metadata": {},
   "source": [
    "Q2: Use the `nltk.word_tokenize` method to implement the type-token ratio:\n",
    "\n",
    "$$\n",
    "TTR = {\\textrm{number of distinct word types} \\over \\textrm{number of word tokens}}\n",
    "$$\n",
    "\n",
    "TTR is dependent on text length (intuitively, the longer a text is, the greater chance you have of a word type repeating), so this number is only comparable between documents of identical lengths.  Calculate this measure for the first 500 words of your two documents and report the results here. Exclude tokens that are exclusively punctuation from all counts."
   ]
  },
  {
   "cell_type": "code",
   "execution_count": 183,
   "id": "6f9bee56",
   "metadata": {},
   "outputs": [],
   "source": [
    "def type_token_ratio(text, num_words=500):\n",
    "    text=text.lower()\n",
    "    tokens=nltk.word_tokenize(text, language=\"english\")[:num_words]\n",
    "    \n",
    "    assert len(tokens) <= num_words\n",
    "    \n",
    "    return len(set(tokens))/len(tokens)"
   ]
  },
  {
   "cell_type": "code",
   "execution_count": 184,
   "id": "3c5b9b98",
   "metadata": {},
   "outputs": [
    {
     "data": {
      "text/plain": [
       "0.488"
      ]
     },
     "execution_count": 184,
     "metadata": {},
     "output_type": "execute_result"
    }
   ],
   "source": [
    "type_token_ratio(text1)"
   ]
  },
  {
   "cell_type": "code",
   "execution_count": 185,
   "id": "0d39cd52",
   "metadata": {},
   "outputs": [
    {
     "data": {
      "text/plain": [
       "0.498"
      ]
     },
     "execution_count": 185,
     "metadata": {},
     "output_type": "execute_result"
    }
   ],
   "source": [
    "type_token_ratio(text2)"
   ]
  },
  {
   "cell_type": "markdown",
   "id": "84ec573a",
   "metadata": {},
   "source": [
    "****"
   ]
  },
  {
   "cell_type": "markdown",
   "id": "7554c8c5",
   "metadata": {},
   "source": [
    "Now we'll implement the [Flesch-Kincaid Grade Level](https://en.wikipedia.org/wiki/Flesch–Kincaid_readability_tests#Flesch–Kincaid_grade_level), which has the following formula:\n",
    "\n",
    "$$\n",
    "0.39 \\left ( \\frac{\\mbox{total words}}{\\mbox{total sentences}} \\right ) + 11.8 \\left ( \\frac{\\mbox{total syllables}}{\\mbox{total words}} \\right ) - 15.59\n",
    "$$\n",
    "\n",
    "Use `nltk.sent_tokenize` or spacy's `sents` function for counting the number of sentences, any word tokenization method we've covered for counting the number of words, and the `get_syllable_count` function below for counting the number of syllables in a word.  Exclude tokens that are exclusively punctuation from word and syllable counts."
   ]
  },
  {
   "cell_type": "markdown",
   "id": "d62b2be7",
   "metadata": {},
   "source": [
    "For calculating the syllables, we're going to use a number of resources: the [CMU pronunciation dictionary](https://github.com/cmusphinx/cmudict), which lists the ARPABET pronunciation for a list of words, along with [g2p](https://github.com/Kyubyong/g2p), a neural model trained to predict the pronunciation for words (which we can use for words not in the CMU dictionary)."
   ]
  },
  {
   "cell_type": "code",
   "execution_count": 186,
   "id": "7e404cff",
   "metadata": {},
   "outputs": [],
   "source": [
    "arpabet = nltk.corpus.cmudict.dict()"
   ]
  },
  {
   "cell_type": "code",
   "execution_count": 187,
   "id": "2c28afcf",
   "metadata": {},
   "outputs": [
    {
     "name": "stdout",
     "output_type": "stream",
     "text": [
      "Requirement already satisfied: g2p_en in /Users/dbamman/opt/anaconda3/envs/anlp/lib/python3.8/site-packages (2.1.0)\n",
      "Requirement already satisfied: inflect>=0.3.1 in /Users/dbamman/opt/anaconda3/envs/anlp/lib/python3.8/site-packages (from g2p_en) (5.3.0)\n",
      "Requirement already satisfied: distance>=0.1.3 in /Users/dbamman/opt/anaconda3/envs/anlp/lib/python3.8/site-packages (from g2p_en) (0.1.3)\n",
      "Requirement already satisfied: numpy>=1.13.1 in /Users/dbamman/opt/anaconda3/envs/anlp/lib/python3.8/site-packages (from g2p_en) (1.20.3)\n",
      "Requirement already satisfied: nltk>=3.2.4 in /Users/dbamman/opt/anaconda3/envs/anlp/lib/python3.8/site-packages (from g2p_en) (3.6.2)\n",
      "Requirement already satisfied: click in /Users/dbamman/opt/anaconda3/envs/anlp/lib/python3.8/site-packages (from nltk>=3.2.4->g2p_en) (7.1.2)\n",
      "Requirement already satisfied: tqdm in /Users/dbamman/opt/anaconda3/envs/anlp/lib/python3.8/site-packages (from nltk>=3.2.4->g2p_en) (4.62.1)\n",
      "Requirement already satisfied: joblib in /Users/dbamman/opt/anaconda3/envs/anlp/lib/python3.8/site-packages (from nltk>=3.2.4->g2p_en) (1.0.1)\n",
      "Requirement already satisfied: regex in /Users/dbamman/opt/anaconda3/envs/anlp/lib/python3.8/site-packages (from nltk>=3.2.4->g2p_en) (2021.8.3)\n"
     ]
    }
   ],
   "source": [
    "!pip install g2p_en"
   ]
  },
  {
   "cell_type": "code",
   "execution_count": 188,
   "id": "dd5eea9a",
   "metadata": {},
   "outputs": [],
   "source": [
    "from g2p_en import G2p\n",
    "g2p = G2p()"
   ]
  },
  {
   "cell_type": "code",
   "execution_count": 189,
   "id": "adb9196c",
   "metadata": {},
   "outputs": [],
   "source": [
    "def get_pronunciation(word):\n",
    "    if word in arpabet:\n",
    "        # pick the first pronunciation\n",
    "        return arpabet[word][0]\n",
    "\n",
    "    else:\n",
    "        return g2p(word)\n",
    "\n",
    "def get_syllable_count(word):\n",
    "    pronunciation=get_pronunciation(word)\n",
    "    sylls=0\n",
    "    for phon in pronunciation:\n",
    "        # vowels in arpabet end in digits (indicating stress)\n",
    "        if re.search(\"\\d$\", phon) is not None:\n",
    "            sylls+=1\n",
    "    return sylls"
   ]
  },
  {
   "cell_type": "code",
   "execution_count": 190,
   "id": "9b43076b",
   "metadata": {},
   "outputs": [
    {
     "data": {
      "text/plain": [
       "2"
      ]
     },
     "execution_count": 190,
     "metadata": {},
     "output_type": "execute_result"
    }
   ],
   "source": [
    "get_syllable_count(\"Bamman\")"
   ]
  },
  {
   "cell_type": "code",
   "execution_count": 191,
   "id": "6adfab7b",
   "metadata": {},
   "outputs": [
    {
     "data": {
      "text/plain": [
       "4"
      ]
     },
     "execution_count": 191,
     "metadata": {},
     "output_type": "execute_result"
    }
   ],
   "source": [
    "get_syllable_count(\"27\")"
   ]
  },
  {
   "cell_type": "markdown",
   "id": "8cc8ed59",
   "metadata": {},
   "source": [
    "Q3. Implement Flesch-Kincaid Grade Level and report its results for your two texts.  Flesch-Kincaid relies on an implicit definition of a \"word\" and a \"sentence\", and different definitions will yield different grade level estimates. (In the problem definition above, we've already ruled out punctuation as constituing stand-alone words, and other assumptions lurk with every tokenization method). State your assumptions for the definition of \"word\" you have implemented and why they are reasonable."
   ]
  },
  {
   "cell_type": "code",
   "execution_count": 192,
   "id": "d56111b8",
   "metadata": {},
   "outputs": [],
   "source": [
    "def flesch_kincaid_grade_level(text):\n",
    "    num_words=0\n",
    "    num_sents=0\n",
    "    num_syllables=0\n",
    "    \n",
    "    for sent in nltk.sent_tokenize(text):\n",
    "        sent_tokens=nltk.word_tokenize(sent)\n",
    "\n",
    "        valid_words_in_sent=False\n",
    "        for token in sent_tokens:\n",
    "            \n",
    "            syllables=get_syllable_count(token)\n",
    "            if syllables > 0:\n",
    "                num_syllables+=syllables\n",
    "                num_words+=1\n",
    "                # flag to ensure sentence has at least one word (as distinct from e.g. all punctuation)\n",
    "                valid_words_in_sent=True\n",
    "\n",
    "        if valid_words_in_sent:\n",
    "            num_sents+=1\n",
    "    \n",
    "    fk=0.39 * (num_words/num_sents) + 11.8 * (num_syllables/num_words) - 15.59\n",
    "    print(\"Flesch-Kincaid Grade Level: %.3f\" % fk)"
   ]
  },
  {
   "cell_type": "code",
   "execution_count": 193,
   "id": "d970aedf",
   "metadata": {},
   "outputs": [
    {
     "name": "stdout",
     "output_type": "stream",
     "text": [
      "Flesch-Kincaid Grade Level: 11.265\n"
     ]
    }
   ],
   "source": [
    "# Should be 11.265\n",
    "flesch_kincaid_grade_level(\"The Australian platypus is seemingly a hybrid of a mammal and reptilian creature\".lower())"
   ]
  },
  {
   "cell_type": "code",
   "execution_count": 194,
   "id": "04718a78",
   "metadata": {},
   "outputs": [
    {
     "name": "stdout",
     "output_type": "stream",
     "text": [
      "Flesch-Kincaid Grade Level: 9.878\n"
     ]
    }
   ],
   "source": [
    "flesch_kincaid_grade_level(text1.lower())"
   ]
  },
  {
   "cell_type": "code",
   "execution_count": 195,
   "id": "e3ee45cc",
   "metadata": {},
   "outputs": [
    {
     "name": "stdout",
     "output_type": "stream",
     "text": [
      "Flesch-Kincaid Grade Level: 8.941\n"
     ]
    }
   ],
   "source": [
    "flesch_kincaid_grade_level(text2.lower())"
   ]
  },
  {
   "cell_type": "markdown",
   "id": "12e6db12",
   "metadata": {},
   "source": [
    "**Q3 \"word\" assumptions:**"
   ]
  },
  {
   "cell_type": "code",
   "execution_count": null,
   "id": "5dc5cf93",
   "metadata": {},
   "outputs": [],
   "source": []
  }
 ],
 "metadata": {
  "kernelspec": {
   "display_name": "Python [conda env:anlp] *",
   "language": "python",
   "name": "conda-env-anlp-py"
  },
  "language_info": {
   "codemirror_mode": {
    "name": "ipython",
    "version": 3
   },
   "file_extension": ".py",
   "mimetype": "text/x-python",
   "name": "python",
   "nbconvert_exporter": "python",
   "pygments_lexer": "ipython3",
   "version": "3.8.8"
  }
 },
 "nbformat": 4,
 "nbformat_minor": 5
}
